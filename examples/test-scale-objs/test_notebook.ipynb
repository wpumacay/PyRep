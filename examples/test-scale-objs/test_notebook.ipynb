{
 "cells": [
  {
   "cell_type": "markdown",
   "id": "31edda72-d5d9-45ac-8844-2eec4d4e69bf",
   "metadata": {},
   "source": [
    "# Test for `simScaleObjects`\n",
    "Here we'll test the newly exposed helper function for scaling objects. This function is different from its single variant `simScaleObject` in the sense that it can work with models correctly, which the later can't achieve."
   ]
  },
  {
   "cell_type": "code",
   "execution_count": 1,
   "id": "f5d66416-ed5d-46fc-99eb-56b3200c9a36",
   "metadata": {},
   "outputs": [],
   "source": [
    "import os\n",
    "from pyrep import PyRep\n",
    "from pyrep.backend.sim import simScaleObject\n",
    "from pyrep.backend.sim import simScaleObjects\n",
    "from pyrep.objects.shape import Shape\n",
    "\n",
    "CURRENT_DIR = os.path.abspath(\"\")\n",
    "TEST_SCENE = os.path.join(CURRENT_DIR, \"test_scene.ttt\")\n",
    "TEST_MODEL = os.path.join(CURRENT_DIR, \"test_model.ttm\")"
   ]
  },
  {
   "cell_type": "code",
   "execution_count": 5,
   "id": "bc569716-aba2-4759-b836-1ec3ec0338c7",
   "metadata": {},
   "outputs": [
    {
     "name": "stderr",
     "output_type": "stream",
     "text": [
      "WARNING: QApplication was not created in the main() thread.\n"
     ]
    },
    {
     "data": {
      "text/plain": [
       "<pyrep.objects.dummy.Dummy at 0x7fd7787758d0>"
      ]
     },
     "execution_count": 5,
     "metadata": {},
     "output_type": "execute_result"
    }
   ],
   "source": [
    "pr = PyRep()\n",
    "pr.launch(TEST_SCENE, responsive_ui=True, headless=False)\n",
    "pr.import_model(TEST_MODEL)"
   ]
  },
  {
   "cell_type": "markdown",
   "id": "3d6a76d0-850f-4c57-9be0-04709a95ea7c",
   "metadata": {},
   "source": [
    "## Using the simpler `simScaleObject`\n",
    "![img_scale_fail](imgs/img_scale_func_fail.png)\n",
    "\n",
    "Notice how we'll try to scale the `box_base` compound shape, trying to get a smaller box with the same proportions. The `box_lid` shape should also be scaled, and we do so, but the structure of the box is lost."
   ]
  },
  {
   "cell_type": "code",
   "execution_count": 6,
   "id": "1741c5e2-02cb-4604-bda0-a713f4028a0e",
   "metadata": {},
   "outputs": [],
   "source": [
    "box_base = Shape(\"box_base\")\n",
    "box_lid = Shape(\"box_lid\")\n",
    "# Scale the box_base\n",
    "SCALE_FACTOR = 0.75\n",
    "simScaleObject(box_base.get_handle(), SCALE_FACTOR, SCALE_FACTOR, SCALE_FACTOR)\n",
    "# Scale the box_lid\n",
    "simScaleObject(box_lid.get_handle(), SCALE_FACTOR, SCALE_FACTOR, SCALE_FACTOR)"
   ]
  },
  {
   "cell_type": "code",
   "execution_count": 4,
   "id": "3006dad6-29be-4a51-8870-882b66c3a5c5",
   "metadata": {},
   "outputs": [],
   "source": [
    "pr.shutdown()"
   ]
  },
  {
   "cell_type": "markdown",
   "id": "d834e38a-e367-4cef-a9c3-7b4acf843991",
   "metadata": {},
   "source": [
    "## Using the new `simScaleObjects`\n",
    "![img_scale_updated](imgs/img_scale_func_updated.png)\n",
    "\n",
    "Using this newly exposed function, we can pass the handle of objects that are models, and it will apply the correct scaling to the object and its children."
   ]
  },
  {
   "cell_type": "code",
   "execution_count": 2,
   "id": "e0d7db4f-4512-4a86-9c25-38d2b76c578d",
   "metadata": {},
   "outputs": [
    {
     "data": {
      "text/plain": [
       "<pyrep.objects.dummy.Dummy at 0x7fd71434add0>"
      ]
     },
     "execution_count": 2,
     "metadata": {},
     "output_type": "execute_result"
    }
   ],
   "source": [
    "pr = PyRep()\n",
    "pr.launch(TEST_SCENE, responsive_ui=True, headless=False)\n",
    "pr.import_model(TEST_MODEL)"
   ]
  },
  {
   "cell_type": "code",
   "execution_count": 3,
   "id": "7980bf0d-630c-4359-b44a-458c14ebe0f5",
   "metadata": {},
   "outputs": [],
   "source": [
    "box_base = Shape(\"box_base\")\n",
    "SCALE_FACTOR = 0.75\n",
    "simScaleObjects([box_base.get_handle()], SCALE_FACTOR)"
   ]
  }
 ],
 "metadata": {
  "kernelspec": {
   "display_name": "Python 3 (ipykernel)",
   "language": "python",
   "name": "python3"
  },
  "language_info": {
   "codemirror_mode": {
    "name": "ipython",
    "version": 3
   },
   "file_extension": ".py",
   "mimetype": "text/x-python",
   "name": "python",
   "nbconvert_exporter": "python",
   "pygments_lexer": "ipython3",
   "version": "3.11.6"
  }
 },
 "nbformat": 4,
 "nbformat_minor": 5
}
